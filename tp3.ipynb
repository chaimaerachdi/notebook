{
  "cells": [
    {
      "cell_type": "markdown",
      "metadata": {
        "id": "view-in-github",
        "colab_type": "text"
      },
      "source": [
        "<a href=\"https://colab.research.google.com/github/chaimaerachdi/notebook/blob/main/tp3.ipynb\" target=\"_parent\"><img src=\"https://colab.research.google.com/assets/colab-badge.svg\" alt=\"Open In Colab\"/></a>"
      ]
    },
    {
      "cell_type": "code",
      "execution_count": 15,
      "metadata": {
        "colab": {
          "base_uri": "https://localhost:8080/"
        },
        "id": "dZyKRtWANWzz",
        "outputId": "ead4181b-7f3e-4ee1-eaa9-0b7a4afcd6a5"
      },
      "outputs": [
        {
          "output_type": "stream",
          "name": "stderr",
          "text": [
            "[nltk_data] Downloading package stopwords to /root/nltk_data...\n",
            "[nltk_data]   Unzipping corpora/stopwords.zip.\n",
            "[nltk_data] Downloading package punkt to /root/nltk_data...\n",
            "[nltk_data]   Unzipping tokenizers/punkt.zip.\n"
          ]
        },
        {
          "output_type": "execute_result",
          "data": {
            "text/plain": [
              "True"
            ]
          },
          "metadata": {},
          "execution_count": 15
        }
      ],
      "source": [
        "#pip install nltk\n",
        "import nltk\n",
        "nltk.download('stopwords')\n",
        "nltk.download('punkt')"
      ]
    },
    {
      "cell_type": "code",
      "source": [
        "import pandas as pd\n",
        "import numpy as np\n",
        "import re\n",
        "from nltk.corpus import stopwords\n",
        "from nltk.tokenize import word_tokenize\n",
        "from gensim.models import Word2Vec\n",
        "from sklearn.model_selection import train_test_split\n",
        "from sklearn.linear_model import LogisticRegression\n",
        "from sklearn.metrics import accuracy_score, precision_score, recall_score, f1_score\n",
        "\n",
        "# Chargement du dataset\n",
        "data = pd.read_csv(\"movie_review.csv\")\n",
        "\n",
        "# Pré-traitement des données textuelles\n",
        "stop_words = set(stopwords.words('english'))\n",
        "\n",
        "def preprocess_text(text):\n",
        "    # Supprimer la ponctuation\n",
        "    text = re.sub(r'[^\\w\\s]', '', text)\n",
        "    # Convertir en minuscules\n",
        "    text = text.lower()\n",
        "    # Supprimer les stopwords\n",
        "    tokens = word_tokenize(text)\n",
        "    filtered_text = [word for word in tokens if word not in stop_words]\n",
        "    return filtered_text\n",
        "\n",
        "data['text'] = data['text'].apply(preprocess_text)\n",
        "\n",
        "# Entraînement du modèle Word2Vec\n",
        "word2vec_model = Word2Vec(sentences=data['text'], vector_size=100, window=5, min_count=1, workers=4)\n",
        "\n",
        "# Vectorisation des reviews de films\n",
        "def vectorize_text(text):\n",
        "    vectors = [word2vec_model.wv[word] for word in text if word in word2vec_model.wv]\n",
        "    if vectors:\n",
        "        return np.mean(vectors, axis=0)\n",
        "    else:\n",
        "        return np.zeros(word2vec_model.vector_size)\n",
        "\n",
        "data['Vectorized_Text'] = data['text'].apply(vectorize_text)\n",
        "\n",
        "# Division des données en ensembles d'entraînement et de test\n",
        "X_train, X_test, y_train, y_test = train_test_split(data['Vectorized_Text'], data['tag'], test_size=0.2, random_state=42)\n",
        "\n",
        "# Construction d'un classificateur (Regression Logistique)\n",
        "classifier = LogisticRegression(max_iter=1000)\n",
        "classifier.fit(list(X_train), y_train)\n",
        "\n",
        "# Prédiction sur l'ensemble de test\n",
        "y_pred = classifier.predict(list(X_test))\n",
        "\n",
        "# Évaluation du modèle\n",
        "accuracy = accuracy_score(y_test, y_pred)\n",
        "precision = precision_score(y_test, y_pred, average='weighted')\n",
        "recall = recall_score(y_test, y_pred, average='weighted')\n",
        "f1 = f1_score(y_test, y_pred, average='weighted')\n",
        "\n",
        "print(\"Accuracy:\", accuracy)\n",
        "print(\"Precision:\", precision)\n",
        "print(\"Recall:\", recall)\n",
        "print(\"F1 Score:\", f1)\n"
      ],
      "metadata": {
        "id": "Yah2XJTtQt5g",
        "outputId": "55217803-9095-4f48-ce93-234894d5d248",
        "colab": {
          "base_uri": "https://localhost:8080/"
        }
      },
      "execution_count": 17,
      "outputs": [
        {
          "output_type": "stream",
          "name": "stdout",
          "text": [
            "Accuracy: 0.5715389369592089\n",
            "Precision: 0.5735235220766333\n",
            "Recall: 0.5715389369592089\n",
            "F1 Score: 0.565761658666476\n"
          ]
        }
      ]
    }
  ],
  "metadata": {
    "colab": {
      "provenance": [],
      "authorship_tag": "ABX9TyMW+OdiwFP/b8fieg/Gy/7j",
      "include_colab_link": true
    },
    "kernelspec": {
      "display_name": "Python 3",
      "name": "python3"
    },
    "language_info": {
      "name": "python"
    }
  },
  "nbformat": 4,
  "nbformat_minor": 0
}