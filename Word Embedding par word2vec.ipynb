{
  "nbformat": 4,
  "nbformat_minor": 0,
  "metadata": {
    "colab": {
      "provenance": [],
      "toc_visible": true,
      "authorship_tag": "ABX9TyM64OC4pkkeozGQz0j4LJkW",
      "include_colab_link": true
    },
    "kernelspec": {
      "name": "python3",
      "display_name": "Python 3"
    },
    "language_info": {
      "name": "python"
    }
  },
  "cells": [
    {
      "cell_type": "markdown",
      "metadata": {
        "id": "view-in-github",
        "colab_type": "text"
      },
      "source": [
        "<a href=\"https://colab.research.google.com/github/chaimaerachdi/notebook/blob/main/Word%20Embedding%20par%20word2vec.ipynb\" target=\"_parent\"><img src=\"https://colab.research.google.com/assets/colab-badge.svg\" alt=\"Open In Colab\"/></a>"
      ]
    },
    {
      "cell_type": "code",
      "execution_count": null,
      "metadata": {
        "id": "ReCZuIFXLU-m"
      },
      "outputs": [],
      "source": [
        "import nltk"
      ]
    },
    {
      "cell_type": "code",
      "source": [
        "from gensim.models import Word2Vec\n",
        "from nltk.tokenize import word_tokenize\n",
        "from nltk.corpus import stopwords\n",
        "import nltk\n",
        "nltk.download('punkt')\n",
        "nltk.download('stopwords')\n"
      ],
      "metadata": {
        "colab": {
          "base_uri": "https://localhost:8080/"
        },
        "id": "m0yJ7XuCUW6p",
        "outputId": "665a5f58-c21a-43d5-96ff-2d368712159c"
      },
      "execution_count": null,
      "outputs": [
        {
          "output_type": "stream",
          "name": "stderr",
          "text": [
            "[nltk_data] Downloading package punkt to /root/nltk_data...\n",
            "[nltk_data]   Package punkt is already up-to-date!\n",
            "[nltk_data] Downloading package stopwords to /root/nltk_data...\n",
            "[nltk_data]   Unzipping corpora/stopwords.zip.\n"
          ]
        },
        {
          "output_type": "execute_result",
          "data": {
            "text/plain": [
              "True"
            ]
          },
          "metadata": {},
          "execution_count": 19
        }
      ]
    },
    {
      "cell_type": "code",
      "source": [
        "# ##Supprimer la ponctuation et les chiffres, mettre en minuscule\n",
        "def preprocess_text(text):\n",
        "    tokens = word_tokenize(text)\n",
        "    tokens = [word.lower() for word in tokens if word.isalpha()]\n",
        "    stop_words = set(stopwords.words('english'))\n",
        "    tokens = [word for word in tokens if word not in stop_words]\n",
        "    return tokens\n",
        "\n",
        "# Texte donné::\n",
        "text = \"\"\"\n",
        "Morocco and Marrakech: A Tapestry of Tradition and Modernity Morocco, located at the crossroads of Europe and Africa, is a country drenched in history, mystery, and cultural richness. A testament to the ancient civilizations that once flourished here, this North African kingdom boasts a unique blend of Arab, Berber, and European influences. At the heart of Morocco's rich tapestry lies Marrakech, one of its four imperial cities and a vibrant epicenter of tradition and modernity. Geographical Significance Morocco is bordered by the Atlantic Ocean to the west, the Mediterranean Sea to the north, Algeria to the east and southeast, and the vast Sahara desert to the south. Its strategic location has historically made it a sought-after territory and a melting pot of cultures, religions, and trade routes. Marrakech: The Red City Marrakech, often referred to as \"The Red City\" due to its distinctive red-hued buildings, stands against the backdrop of the snow-capped Atlas Mountains. Established in the 11th century, it has remained a crucial political, economic, and cultural center of Morocco. Journey through the Medina Marrakech's old town, the Medina, is a UNESCO World Heritage site and a labyrinthine maze of narrow alleys, bustling souks, and historical landmarks. The Djemaa el-Fna Square lies at the heart of the Medina and comes alive every evening with storytellers, musicians, snake charmers, and food stalls offering tantalizing Moroccan delicacies. Palaces and Gardens The city is also home to grand palaces like the Bahia Palace, showcasing intricate Islamic architecture, and the Saadian Tombs, remnants of the Saadian dynasty. The Majorelle Garden, restored by the fashion designer Yves Saint Laurent, is a tranquil oasis of cacti, palm trees, and cobalt blue accents. Modern Marrakech While tradition and history permeate Marrakech, the city is not averse to the modern world. Gueliz, the new town, is brimming with contemporary art galleries, stylish cafes, and chic boutiques, offering a stark contrast to the ancient Medina. Moroccan Cuisine No journey through Morocco and Marrakech would be complete without indulging in the local cuisine. Tagines, couscous, and pastilla are just a few of the many dishes that combine a plethora of flavors and spices like saffron, cumin, and mint. Paired with Moroccan mint tea, the culinary experience is truly unparalleled. In Conclusion Morocco, with Marrakech at its heart, offers travelers an unparalleled journey through time. The convergence of history, culture, architecture, and gastronomy makes it an enthralling destination for those seeking both adventure and reflection. As the Moroccan proverb goes, \"He who does not travel does not know the value of men.\" In the case of Morocco and Marrakech, it's not just the value of men, but also the value of time, tradition, and tales that have spanned centuries.\n",
        "\"\"\"\n",
        "\n",
        "# Prétraiter le texte\n",
        "preprocessed_text = preprocess_text(text)\n"
      ],
      "metadata": {
        "id": "fW-Vzw-ZZza3"
      },
      "execution_count": null,
      "outputs": []
    },
    {
      "cell_type": "code",
      "source": [
        "# Définir les paramètres du modèle\n",
        "embedding_size = 100\n",
        "window_size = 5\n",
        "min_count = 1\n",
        "\n",
        "# Entraîner le modèle word2vec\n",
        "model = Word2Vec([preprocessed_text], vector_size=embedding_size, window=window_size, min_count=min_count, sg=0)\n"
      ],
      "metadata": {
        "id": "HQm-R9SzZ28I"
      },
      "execution_count": null,
      "outputs": []
    },
    {
      "cell_type": "code",
      "source": [
        "# Représentation vectorielle d'un mot\n",
        "word_representation = model.wv['marrakech']\n",
        "print(f\"Vector representation of 'marrakech': {word_representation}\")\n"
      ],
      "metadata": {
        "colab": {
          "base_uri": "https://localhost:8080/"
        },
        "id": "VZp4fCCvZ8Nj",
        "outputId": "933d2d0d-9791-432e-d9f7-71dc4fa61387"
      },
      "execution_count": null,
      "outputs": [
        {
          "output_type": "stream",
          "name": "stdout",
          "text": [
            "Vector representation of 'marrakech': [-5.9492857e-04  3.0722015e-04  5.0988239e-03  9.0012215e-03\n",
            " -9.2875138e-03 -7.2440631e-03  6.4836438e-03  9.1256108e-03\n",
            " -5.0763413e-03 -3.8068872e-03  7.3691304e-03 -1.6133960e-03\n",
            " -4.4928757e-03  6.5716226e-03 -4.8758304e-03 -1.8183229e-03\n",
            "  2.9020978e-03  8.7383739e-04 -8.3291205e-03 -9.6639479e-03\n",
            "  7.2643422e-03  5.1174988e-03  6.7770351e-03  7.5570442e-04\n",
            "  6.2906905e-03 -3.3804558e-03 -9.5353613e-04  5.6614405e-03\n",
            " -7.5808805e-03 -3.9271289e-03 -7.5054867e-03 -8.7171036e-04\n",
            "  9.5649846e-03 -7.2924141e-03 -2.3993752e-03 -1.7548858e-03\n",
            "  8.1109209e-03 -6.0020979e-03 -6.2045137e-06 -4.8574395e-03\n",
            " -9.5789758e-03  4.8752469e-03 -8.8087833e-03 -4.4036754e-03\n",
            "  3.1245865e-05 -3.2078524e-04 -7.6658870e-03  9.5902961e-03\n",
            "  5.0148382e-03  9.2462832e-03 -8.1485528e-03  4.4496409e-03\n",
            " -4.0745148e-03  8.3255535e-04  8.4950766e-03 -4.4043073e-03\n",
            "  4.5533651e-03 -6.8066781e-03 -3.5594041e-03  9.4069401e-03\n",
            " -1.5603773e-03  3.1600197e-04 -4.1379752e-03 -7.7537377e-03\n",
            " -1.5731012e-03  2.5168038e-03 -8.4431126e-04  5.6207362e-03\n",
            " -2.8428915e-03  2.3441152e-03  5.4224883e-03  8.3967336e-03\n",
            " -1.4402957e-03 -9.2524346e-03  4.4590714e-03  6.3340389e-04\n",
            "  7.4329409e-03 -8.1340055e-04 -2.7457816e-03 -8.7463679e-03\n",
            " -8.2303770e-04  2.8782398e-03  5.2834842e-03  7.1880179e-03\n",
            " -5.7147751e-03  1.8643627e-03  6.1008576e-03 -4.6989881e-03\n",
            " -2.9582661e-03  6.8063177e-03  1.7206372e-03  3.0219898e-04\n",
            "  3.4515946e-03  3.0007513e-04  9.7584464e-03  5.1283375e-03\n",
            " -8.8591371e-03 -7.1362271e-03  9.4216666e-04  6.3393381e-03]\n"
          ]
        }
      ]
    },
    {
      "cell_type": "code",
      "source": [
        "# Similarité entre deux mots\n",
        "similarity_score = model.wv.similarity('morocco', 'imperial')\n",
        "print(f\"Similarity between 'morocco' and 'imperial': {similarity_score}\")\n"
      ],
      "metadata": {
        "colab": {
          "base_uri": "https://localhost:8080/"
        },
        "id": "U0BUhu1WZ-wo",
        "outputId": "4b0bac62-05a9-421d-ce58-ed2b38d8311c"
      },
      "execution_count": null,
      "outputs": [
        {
          "output_type": "stream",
          "name": "stdout",
          "text": [
            "Similarity between 'morocco' and 'imperial': 0.0429873988032341\n"
          ]
        }
      ]
    },
    {
      "cell_type": "code",
      "source": [
        "# Mots contextuels pour un mot central donné\n",
        "similar_words = model.wv.most_similar('culture', topn=5)\n",
        "print(f\"Most similar words to 'culture': {similar_words}\")\n"
      ],
      "metadata": {
        "colab": {
          "base_uri": "https://localhost:8080/"
        },
        "id": "oHS3H1r-aEX7",
        "outputId": "a1796049-d3ea-4c6a-8c2f-f52a3b428acf"
      },
      "execution_count": null,
      "outputs": [
        {
          "output_type": "stream",
          "name": "stdout",
          "text": [
            "Most similar words to 'culture': [('modernity', 0.25231900811195374), ('european', 0.24875447154045105), ('adventure', 0.24472495913505554), ('political', 0.220358744263649), ('square', 0.21795012056827545)]\n"
          ]
        }
      ]
    }
  ]
}